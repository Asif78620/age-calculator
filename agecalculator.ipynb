{
  "nbformat": 4,
  "nbformat_minor": 0,
  "metadata": {
    "colab": {
      "provenance": [],
      "authorship_tag": "ABX9TyPj2UDcC7vNYY5AwKWyI+Mo",
      "include_colab_link": true
    },
    "kernelspec": {
      "name": "python3",
      "display_name": "Python 3"
    },
    "language_info": {
      "name": "python"
    }
  },
  "cells": [
    {
      "cell_type": "markdown",
      "metadata": {
        "id": "view-in-github",
        "colab_type": "text"
      },
      "source": [
        "<a href=\"https://colab.research.google.com/github/Asif78620/age-calculator/blob/main/agecalculator.ipynb\" target=\"_parent\"><img src=\"https://colab.research.google.com/assets/colab-badge.svg\" alt=\"Open In Colab\"/></a>"
      ]
    },
    {
      "cell_type": "code",
      "execution_count": null,
      "metadata": {
        "id": "Tm0nL3BZrDwT"
      },
      "outputs": [],
      "source": [
        "import streamlit as st\n",
        "from datetime import datetime, timedelta  # Ensure timedelta is imported\n",
        "\n",
        "# Function to calculate age\n",
        "def calculate_age():\n",
        "    st.title(\"Age Calculator\")\n",
        "\n",
        "    # User input for birthdate\n",
        "    birthdate = st.date_input(\"Enter your birthdate:\")\n",
        "\n",
        "    # Get today's date\n",
        "    today = datetime.today().date()\n",
        "\n",
        "    # Calculate age in years, months, and days\n",
        "    if birthdate > today:\n",
        "        st.error(\"Error: Birthdate cannot be in the future.\")\n",
        "    else:\n",
        "        # Calculate the difference in years, months, and days\n",
        "        age_years = today.year - birthdate.year\n",
        "        age_months = today.month - birthdate.month\n",
        "        age_days = today.day - birthdate.day\n",
        "\n",
        "        # Adjust for negative months or days if the birthdate hasn't occurred yet in the current year\n",
        "        if age_months < 0:\n",
        "            age_years -= 1\n",
        "            age_months += 12\n",
        "        if age_days < 0:\n",
        "            age_months -= 1\n",
        "            # Get the last day of the previous month to adjust days\n",
        "            last_day_of_previous_month = datetime(today.year, today.month, 1) - timedelta(days=1)\n",
        "            age_days += last_day_of_previous_month.day\n",
        "\n",
        "        # Display the age\n",
        "        st.write(f\"Your age is {age_years} years, {age_months} months, and {age_days} days.\")\n",
        "\n",
        "# Call the age calculator function\n",
        "if __name__ == \"__main__\":\n",
        "    calculate_age()\n"
      ]
    }
  ]
}